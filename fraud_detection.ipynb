{
  "cells": [
    {
      "cell_type": "markdown",
      "metadata": {
        "id": "DUCEID3ZPfS4"
      },
      "source": [
        "**ASSIGNMENT 1**\n",
        "\n",
        "DONE BY:\n",
        "\n",
        "ABHISHEK R **002**\n",
        "\n",
        "ABHISHEK REDDY **003**\n",
        "\n",
        "ABISHNA A **005**\n",
        "\n",
        "\n",
        "PROBLEM STATEMENT: To Develop an ML-based fraud detection system for financial transactions that can identify fraudulent activities and adapt to changing fraud patterns, and provide interpretable insights.\n"
      ]
    },
    {
      "cell_type": "code",
      "execution_count": null,
      "metadata": {
        "id": "8zEtEO_K2nsu"
      },
      "outputs": [],
      "source": [
        "import kagglehub\n",
        "\n",
        "path = kagglehub.dataset_download(\"chitwanmanchanda/fraudulent-transactions-data\")\n",
        "\n",
        "import pandas as pd\n",
        "import os\n",
        "\n",
        "csv_file = [file for file in os.listdir(path) if file.endswith(\".csv\")][0]\n",
        "df = pd.read_csv(os.path.join(path, csv_file))"
      ]
    },
    {
      "cell_type": "markdown",
      "metadata": {
        "id": "DmzUoml-PqqT"
      },
      "source": [
        "**Exploratory Data Analysis (EDA)**"
      ]
    },
    {
      "cell_type": "code",
      "execution_count": null,
      "metadata": {
        "colab": {
          "base_uri": "https://localhost:8080/"
        },
        "id": "2ewzAzH1M-OY",
        "outputId": "f962f8e9-1633-4df4-9868-dfa1d75f7dde"
      },
      "outputs": [
        {
          "name": "stdout",
          "output_type": "stream",
          "text": [
            "   step      type    amount     nameOrig  oldbalanceOrg  newbalanceOrig  \\\n",
            "0     1   PAYMENT   9839.64  C1231006815       170136.0       160296.36   \n",
            "1     1   PAYMENT   1864.28  C1666544295        21249.0        19384.72   \n",
            "2     1  TRANSFER    181.00  C1305486145          181.0            0.00   \n",
            "3     1  CASH_OUT    181.00   C840083671          181.0            0.00   \n",
            "4     1   PAYMENT  11668.14  C2048537720        41554.0        29885.86   \n",
            "\n",
            "      nameDest  oldbalanceDest  newbalanceDest  isFraud  isFlaggedFraud  \n",
            "0  M1979787155             0.0             0.0        0               0  \n",
            "1  M2044282225             0.0             0.0        0               0  \n",
            "2   C553264065             0.0             0.0        1               0  \n",
            "3    C38997010         21182.0             0.0        1               0  \n",
            "4  M1230701703             0.0             0.0        0               0  \n"
          ]
        }
      ],
      "source": [
        "print(df.head())"
      ]
    },
    {
      "cell_type": "code",
      "execution_count": null,
      "metadata": {
        "colab": {
          "base_uri": "https://localhost:8080/"
        },
        "id": "KvOnegF4NVsm",
        "outputId": "4f0bdc3c-aadf-4cd5-8ab1-b3d99abb033d"
      },
      "outputs": [
        {
          "name": "stdout",
          "output_type": "stream",
          "text": [
            "<class 'pandas.core.frame.DataFrame'>\n",
            "RangeIndex: 6362620 entries, 0 to 6362619\n",
            "Data columns (total 11 columns):\n",
            " #   Column          Dtype  \n",
            "---  ------          -----  \n",
            " 0   step            int64  \n",
            " 1   type            object \n",
            " 2   amount          float64\n",
            " 3   nameOrig        object \n",
            " 4   oldbalanceOrg   float64\n",
            " 5   newbalanceOrig  float64\n",
            " 6   nameDest        object \n",
            " 7   oldbalanceDest  float64\n",
            " 8   newbalanceDest  float64\n",
            " 9   isFraud         int64  \n",
            " 10  isFlaggedFraud  int64  \n",
            "dtypes: float64(5), int64(3), object(3)\n",
            "memory usage: 534.0+ MB\n",
            "None\n"
          ]
        }
      ],
      "source": [
        "print(df.info())"
      ]
    },
    {
      "cell_type": "code",
      "execution_count": null,
      "metadata": {
        "colab": {
          "base_uri": "https://localhost:8080/"
        },
        "id": "90IfCBdjNbBx",
        "outputId": "9dfd3519-d67d-4966-cdf1-95982a1530b7"
      },
      "outputs": [
        {
          "name": "stdout",
          "output_type": "stream",
          "text": [
            "               step        amount  oldbalanceOrg  newbalanceOrig  \\\n",
            "count  6.362620e+06  6.362620e+06   6.362620e+06    6.362620e+06   \n",
            "mean   2.433972e+02  1.798619e+05   8.338831e+05    8.551137e+05   \n",
            "std    1.423320e+02  6.038582e+05   2.888243e+06    2.924049e+06   \n",
            "min    1.000000e+00  0.000000e+00   0.000000e+00    0.000000e+00   \n",
            "25%    1.560000e+02  1.338957e+04   0.000000e+00    0.000000e+00   \n",
            "50%    2.390000e+02  7.487194e+04   1.420800e+04    0.000000e+00   \n",
            "75%    3.350000e+02  2.087215e+05   1.073152e+05    1.442584e+05   \n",
            "max    7.430000e+02  9.244552e+07   5.958504e+07    4.958504e+07   \n",
            "\n",
            "       oldbalanceDest  newbalanceDest       isFraud  isFlaggedFraud  \n",
            "count    6.362620e+06    6.362620e+06  6.362620e+06    6.362620e+06  \n",
            "mean     1.100702e+06    1.224996e+06  1.290820e-03    2.514687e-06  \n",
            "std      3.399180e+06    3.674129e+06  3.590480e-02    1.585775e-03  \n",
            "min      0.000000e+00    0.000000e+00  0.000000e+00    0.000000e+00  \n",
            "25%      0.000000e+00    0.000000e+00  0.000000e+00    0.000000e+00  \n",
            "50%      1.327057e+05    2.146614e+05  0.000000e+00    0.000000e+00  \n",
            "75%      9.430367e+05    1.111909e+06  0.000000e+00    0.000000e+00  \n",
            "max      3.560159e+08    3.561793e+08  1.000000e+00    1.000000e+00  \n"
          ]
        }
      ],
      "source": [
        "print(df.describe())"
      ]
    },
    {
      "cell_type": "code",
      "execution_count": null,
      "metadata": {
        "colab": {
          "base_uri": "https://localhost:8080/"
        },
        "id": "SN_fIxVwNfe9",
        "outputId": "cc1de66d-ed1f-409b-f1f9-d694325df538"
      },
      "outputs": [
        {
          "name": "stdout",
          "output_type": "stream",
          "text": [
            "step              0\n",
            "type              0\n",
            "amount            0\n",
            "nameOrig          0\n",
            "oldbalanceOrg     0\n",
            "newbalanceOrig    0\n",
            "nameDest          0\n",
            "oldbalanceDest    0\n",
            "newbalanceDest    0\n",
            "isFraud           0\n",
            "isFlaggedFraud    0\n",
            "dtype: int64\n"
          ]
        }
      ],
      "source": [
        "print(df.isnull().sum())"
      ]
    },
    {
      "cell_type": "code",
      "execution_count": null,
      "metadata": {
        "colab": {
          "base_uri": "https://localhost:8080/"
        },
        "id": "7Jug3ZrENiol",
        "outputId": "73336f8d-9692-4b52-c3aa-8d94a11df0ae"
      },
      "outputs": [
        {
          "name": "stdout",
          "output_type": "stream",
          "text": [
            "isFraud\n",
            "0    0.998709\n",
            "1    0.001291\n",
            "Name: proportion, dtype: float64\n"
          ]
        }
      ],
      "source": [
        "print(df[\"isFraud\"].value_counts(normalize=True))"
      ]
    },
    {
      "cell_type": "markdown",
      "metadata": {
        "id": "-bsWcgTWPWN_"
      },
      "source": [
        "**COUNT PLOT**"
      ]
    },
    {
      "cell_type": "code",
      "execution_count": null,
      "metadata": {
        "colab": {
          "base_uri": "https://localhost:8080/",
          "height": 403
        },
        "id": "1CMM8N-CN0F9",
        "outputId": "98aa75c9-a732-4234-e5d7-09fdcbae03c9"
      },
      "outputs": [
        {
          "data": {
            "image/png": "[encoded data removed]",
            "text/plain": [
              "<Figure size 600x400 with 1 Axes>"
            ]
          },
          "metadata": {},
          "output_type": "display_data"
        }
      ],
      "source": [
        "import matplotlib.pyplot as plt\n",
        "import seaborn as sns\n",
        "\n",
        "plt.figure(figsize=(6,4))\n",
        "sns.countplot(x=\"isFraud\", data=df)\n",
        "plt.show()"
      ]
    },
    {
      "cell_type": "markdown",
      "metadata": {
        "id": "dU76HWA5POo4"
      },
      "source": [
        "**CORRELATION MATRIX**"
      ]
    },
    {
      "cell_type": "code",
      "execution_count": null,
      "metadata": {
        "colab": {
          "base_uri": "https://localhost:8080/",
          "height": 683
        },
        "id": "iAZciHlKN3mR",
        "outputId": "e10281e0-ed4a-48f2-cd8f-900e6f0cfb71"
      },
      "outputs": [
        {
          "data": {
            "image/png": "[encoded data removed]",
            "text/plain": [
              "<Figure size 1000x670 with 2 Axes>"
            ]
          },
          "metadata": {},
          "output_type": "display_data"
        }
      ],
      "source": [
        "df_encoded = df.copy()\n",
        "for col in df.select_dtypes(include=[\"object\"]).columns:\n",
        "    df_encoded[col] = df_encoded[col].astype(\"category\").cat.codes\n",
        "\n",
        "plt.figure(figsize=(10,6.7))\n",
        "corr_matrix = df_encoded.corr()\n",
        "sns.heatmap(corr_matrix, annot=True, cmap=\"coolwarm\", fmt=\".2f\")\n",
        "plt.show()"
      ]
    },
    {
      "cell_type": "markdown",
      "metadata": {
        "id": "aPSajtysPdbm"
      },
      "source": [
        "**Distribution of Transaction Amounts**"
      ]
    },
    {
      "cell_type": "code",
      "execution_count": null,
      "metadata": {
        "colab": {
          "base_uri": "https://localhost:8080/",
          "height": 487
        },
        "id": "BLq6QjX0PxTe",
        "outputId": "b47c7b1b-06ac-40c5-b0aa-18c53e188795"
      },
      "outputs": [
        {
          "data": {
            "image/png": "[encoded data removed]",
            "text/plain": [
              "<Figure size 800x500 with 1 Axes>"
            ]
          },
          "metadata": {},
          "output_type": "display_data"
        }
      ],
      "source": [
        "plt.figure(figsize=(8,5))\n",
        "sns.histplot(df[\"amount\"], bins=50, kde=True)\n",
        "plt.xlabel(\"Transaction Amount\")\n",
        "plt.ylabel(\"Frequency\")\n",
        "plt.title(\"Distribution of Transaction Amounts\")\n",
        "plt.show()\n"
      ]
    },
    {
      "cell_type": "markdown",
      "metadata": {
        "id": "P0ttGbu1P144"
      },
      "source": [
        "**Box Plot for Transaction Amounts (Detect Outliers)**"
      ]
    },
    {
      "cell_type": "code",
      "execution_count": null,
      "metadata": {
        "colab": {
          "base_uri": "https://localhost:8080/",
          "height": 487
        },
        "id": "-F68Is-IP3O_",
        "outputId": "a4cf913e-ef5c-49f9-aa07-3999885a3e52"
      },
      "outputs": [
        {
          "data": {
            "image/png": "[encoded data removed]",
            "text/plain": [
              "<Figure size 800x500 with 1 Axes>"
            ]
          },
          "metadata": {},
          "output_type": "display_data"
        }
      ],
      "source": [
        "plt.figure(figsize=(8,5))\n",
        "sns.boxplot(x=\"isFraud\", y=\"amount\", data=df)\n",
        "plt.xlabel(\"Fraud (0 = No, 1 = Yes)\")\n",
        "plt.ylabel(\"Transaction Amount\")\n",
        "plt.title(\"Transaction Amount Distribution by Fraud Status\")\n",
        "plt.show()\n"
      ]
    },
    {
      "cell_type": "markdown",
      "metadata": {
        "id": "F-vViT2mQDlW"
      },
      "source": [
        "**PCA** (**Principal Component Analysis**) **for Feature Distribution**"
      ]
    },
    {
      "cell_type": "code",
      "execution_count": null,
      "metadata": {
        "colab": {
          "base_uri": "https://localhost:8080/",
          "height": 542
        },
        "id": "W7Bj241yQFm-",
        "outputId": "be118b8e-f67e-4c5a-cb32-fc19419fb78a"
      },
      "outputs": [
        {
          "name": "stderr",
          "output_type": "stream",
          "text": [
            "/usr/local/lib/python3.11/dist-packages/IPython/core/pylabtools.py:151: UserWarning: Creating legend with loc=\"best\" can be slow with large amounts of data.\n",
            "  fig.canvas.print_figure(bytes_io, **kw)\n"
          ]
        },
        {
          "data": {
            "image/png": "[encoded data removed]",
            "text/plain": [
              "<Figure size 800x500 with 1 Axes>"
            ]
          },
          "metadata": {},
          "output_type": "display_data"
        }
      ],
      "source": [
        "from sklearn.decomposition import PCA\n",
        "from sklearn.preprocessing import StandardScaler\n",
        "\n",
        "df_encoded = df.copy()\n",
        "for col in df.select_dtypes(include=[\"object\"]).columns:\n",
        "    df_encoded[col] = df_encoded[col].astype(\"category\").cat.codes\n",
        "\n",
        "scaler = StandardScaler()\n",
        "scaled_features = scaler.fit_transform(df_encoded.drop(columns=[\"isFraud\"]))\n",
        "\n",
        "pca = PCA(n_components=2)\n",
        "pca_result = pca.fit_transform(scaled_features)\n",
        "\n",
        "df_pca = pd.DataFrame(pca_result, columns=[\"PC1\", \"PC2\"])\n",
        "df_pca[\"isFraud\"] = df[\"isFraud\"]\n",
        "\n",
        "plt.figure(figsize=(8,5))\n",
        "sns.scatterplot(x=\"PC1\", y=\"PC2\", hue=\"isFraud\", data=df_pca, palette=\"coolwarm\", alpha=0.6)\n",
        "plt.title(\"PCA Visualization of Transactions\")\n",
        "plt.show()"
      ]
    },
    {
      "cell_type": "markdown",
      "metadata": {
        "id": "ZD9wSASpWGiN"
      },
      "source": [
        "**Chosen Models for Fraud Detection**\n",
        "We’ve decided to use XGBoost and Random Forest Classifier for detecting fraudulent transactions. Here’s why these two models stand out:\n",
        "\n",
        "**Why XGBoost?**\n",
        "\n",
        "🔹 It’s great at handling imbalanced data, which is common in fraud detection (since fraudulent transactions are much rarer than legitimate ones).\n",
        "\n",
        "🔹 It learns from mistakes and keeps improving, making it highly accurate.\n",
        "\n",
        "🔹 It’s optimized for speed and efficiency, making it a solid choice for real-time fraud detection.\n",
        "\n",
        "**Why Random Forest?**\n",
        "\n",
        "🔹 It works well with complex data by using multiple decision trees to find hidden patterns in transactions.\n",
        "\n",
        "🔹 It helps us understand which factors contribute most to fraud, thanks to its feature importance analysis.\n",
        "\n",
        "🔹 It’s robust and reliable, reducing the risk of overfitting and ensuring better generalization.\n",
        "\n",
        "\n",
        "By combining these two models, we get a strong mix of accuracy, interpretability, and efficiency, making them perfect for our fraud detection system."
      ]
    },
    {
      "cell_type": "markdown",
      "metadata": {
        "id": "vy-4-ahmYvz8"
      },
      "source": [
        "**Data preprocessing**"
      ]
    },
    {
      "cell_type": "code",
      "execution_count": null,
      "metadata": {
        "id": "DCvBmOxsXChR"
      },
      "outputs": [],
      "source": [
        "# Handle missing values (if any)\n",
        "df = df.dropna()"
      ]
    },
    {
      "cell_type": "code",
      "execution_count": null,
      "metadata": {
        "id": "CqXLRKu5Y3Io"
      },
      "outputs": [],
      "source": [
        "from sklearn.preprocessing import LabelEncoder"
      ]
    },
    {
      "cell_type": "code",
      "execution_count": null,
      "metadata": {
        "id": "zra9zlNeZIhX"
      },
      "outputs": [],
      "source": [
        "# Encode categorical variables\n",
        "label_enc = LabelEncoder()\n",
        "df['type'] = label_enc.fit_transform(df['type'])  # Assuming 'type' is categorical"
      ]
    },
    {
      "cell_type": "code",
      "execution_count": null,
      "metadata": {
        "id": "aC7_ggfqZNlk"
      },
      "outputs": [],
      "source": [
        "# Separate features and target\n",
        "X = df.drop(columns=['isFraud'])  # 'isFraud' is the target column\n",
        "y = df['isFraud']"
      ]
    },
    {
      "cell_type": "code",
      "execution_count": null,
      "metadata": {
        "id": "_gPH2edrZPzj"
      },
      "outputs": [],
      "source": [
        "import numpy as np\n",
        "from sklearn.preprocessing import StandardScaler\n",
        "\n",
        "# Standardize numerical features\n",
        "scaler = StandardScaler()\n",
        "X_scaled = scaler.fit_transform(X.select_dtypes(include=[np.number]))  # Ensures only numeric data is passed"
      ]
    },
    {
      "cell_type": "code",
      "execution_count": null,
      "metadata": {
        "id": "7pkOvYmlZSJ_"
      },
      "outputs": [],
      "source": [
        "from sklearn.model_selection import train_test_split\n",
        "\n",
        "# Split dataset into training and testing sets\n",
        "X_train, X_test, y_train, y_test = train_test_split(X_scaled, y, test_size=0.2, random_state=42, stratify=y)"
      ]
    },
    {
      "cell_type": "markdown",
      "metadata": {
        "id": "grJg36UDycSj"
      },
      "source": [
        "**Handling Imbalanced Data**"
      ]
    },
    {
      "cell_type": "code",
      "execution_count": null,
      "metadata": {
        "colab": {
          "base_uri": "https://localhost:8080/"
        },
        "id": "ERFUk2iKyfr_",
        "outputId": "257cd3fa-c74e-4deb-a5d1-b60a86b020c6"
      },
      "outputs": [
        {
          "name": "stdout",
          "output_type": "stream",
          "text": [
            "Data balanced using SMOTE. New class distribution: [6354407 6354407]\n"
          ]
        }
      ],
      "source": [
        "from imblearn.over_sampling import SMOTE\n",
        "\n",
        "# Apply SMOTE to balance the dataset\n",
        "smote = SMOTE(random_state=42)\n",
        "X_resampled, y_resampled = smote.fit_resample(X_scaled, y)\n",
        "\n",
        "print(\"Data balanced using SMOTE. New class distribution:\", np.bincount(y_resampled))"
      ]
    },
    {
      "cell_type": "markdown",
      "metadata": {
        "id": "bG4atxfryk0f"
      },
      "source": [
        "**Removing Outliers Using IQR**"
      ]
    },
    {
      "cell_type": "code",
      "execution_count": null,
      "metadata": {
        "id": "SGZFgmpoym07"
      },
      "outputs": [],
      "source": [
        "# Select only numeric columns\n",
        "numeric_cols = df.select_dtypes(include=['number']).columns\n",
        "df_numeric = df[numeric_cols]  # Create a copy with only numeric data\n",
        "\n",
        "# Calculate IQR\n",
        "Q1 = df_numeric.quantile(0.25)\n",
        "Q3 = df_numeric.quantile(0.75)\n",
        "IQR = Q3 - Q1\n",
        "\n",
        "# Remove outliers from numeric columns\n",
        "df = df[~((df_numeric < (Q1 - 1.5 * IQR)) | (df_numeric > (Q3 + 1.5 * IQR))).any(axis=1)]\n"
      ]
    },
    {
      "cell_type": "markdown",
      "metadata": {
        "id": "KXyclAM9yrft"
      },
      "source": [
        "**Feature Engineering**"
      ]
    },
    {
      "cell_type": "code",
      "execution_count": null,
      "metadata": {
        "id": "4hchC2Mdys8m"
      },
      "outputs": [],
      "source": [
        "df['transaction_count'] = df.groupby('nameOrig')['amount'].transform('count')\n",
        "df['transaction_avg'] = df.groupby('nameOrig')['amount'].transform('mean')\n",
        "df['transaction_std'] = df.groupby('nameOrig')['amount'].transform('std').fillna(0)"
      ]
    },
    {
      "cell_type": "markdown",
      "metadata": {
        "id": "zpz_LC33yzH7"
      },
      "source": [
        "**Scaling with Log Transformation**"
      ]
    },
    {
      "cell_type": "code",
      "execution_count": null,
      "metadata": {
        "id": "-Szx7hGcy09q"
      },
      "outputs": [],
      "source": [
        "df['amount'] = np.log1p(df['amount'])  # log(1 + x) to avoid log(0)"
      ]
    },
    {
      "cell_type": "markdown",
      "metadata": {
        "id": "pDU4NwXW1229"
      },
      "source": [
        "**Train Logistic Regression Model** and **Evaluation**"
      ]
    },
    {
      "cell_type": "code",
      "execution_count": null,
      "metadata": {
        "id": "w7ljTwvV117e"
      },
      "outputs": [],
      "source": [
        "import numpy as np\n",
        "\n",
        "# Sigmoid function\n",
        "def sigmoid(z):\n",
        "    return 1 / (1 + np.exp(-z))\n",
        "\n",
        "# Initialize parameters\n",
        "theta = np.zeros(X_train.shape[1])  # Weights\n",
        "bias = 0\n",
        "learning_rate = 0.01\n",
        "epochs = 1000\n",
        "\n",
        "# Gradient Descent\n",
        "for _ in range(epochs):\n",
        "    linear_model = np.dot(X_train, theta) + bias\n",
        "    predictions = sigmoid(linear_model)\n",
        "\n",
        "    # Compute gradients\n",
        "    error = predictions - y_train\n",
        "    d_theta = np.dot(X_train.T, error) / len(y_train)\n",
        "    d_bias = np.sum(error) / len(y_train)\n",
        "\n",
        "    # Update parameters\n",
        "    theta -= learning_rate * d_theta\n",
        "    bias -= learning_rate * d_bias\n",
        "\n",
        "# Predictions\n",
        "y_pred_log = sigmoid(np.dot(X_test, theta) + bias) >= 0.5"
      ]
    },
    {
      "cell_type": "code",
      "execution_count": null,
      "metadata": {
        "colab": {
          "base_uri": "https://localhost:8080/"
        },
        "id": "mrZIRupkOZAQ",
        "outputId": "2ed55627-a419-4519-e8d6-c335b5da1942"
      },
      "outputs": [
        {
          "name": "stdout",
          "output_type": "stream",
          "text": [
            "      Metric  Logistic Regression\n",
            "0   Accuracy             0.998709\n",
            "1  Precision             1.000000\n",
            "2     Recall             0.000000\n",
            "3   F1-Score             0.000000\n"
          ]
        }
      ],
      "source": [
        "# Predictions\n",
        "y_pred_log = sigmoid(np.dot(X_test, theta) + bias) >= 0.5\n",
        "\n",
        "# Model Evaluation\n",
        "from sklearn.metrics import accuracy_score, precision_score, recall_score, f1_score\n",
        "import pandas as pd\n",
        "\n",
        "log_acc = accuracy_score(y_test, y_pred_log)\n",
        "log_prec = precision_score(y_test, y_pred_log, zero_division=1)\n",
        "log_recall = recall_score(y_test, y_pred_log)\n",
        "log_f1 = f1_score(y_test, y_pred_log)\n",
        "\n",
        "# Print Results\n",
        "results = pd.DataFrame({\n",
        "    \"Metric\": [\"Accuracy\", \"Precision\", \"Recall\", \"F1-Score\"],\n",
        "    \"Logistic Regression\": [log_acc, log_prec, log_recall, log_f1]\n",
        "})\n",
        "\n",
        "print(results)"
      ]
    },
    {
      "cell_type": "markdown",
      "metadata": {
        "id": "IjFg7H062K7u"
      },
      "source": [
        "**Train Random Forest Model** and  **Evaluation**"
      ]
    },
    {
      "cell_type": "code",
      "execution_count": null,
      "metadata": {
        "colab": {
          "base_uri": "https://localhost:8080/"
        },
        "id": "dXIfQqAl2KB_",
        "outputId": "556fe5fc-c3f8-49cc-a87d-b48d5c3e1147"
      },
      "outputs": [
        {
          "name": "stdout",
          "output_type": "stream",
          "text": [
            "Random Forest Accuracy: 0.9988\n",
            "Classification Report:\n",
            "              precision    recall  f1-score   support\n",
            "\n",
            "           0       1.00      1.00      1.00   1270881\n",
            "           1       0.54      0.45      0.49      1643\n",
            "\n",
            "    accuracy                           1.00   1272524\n",
            "   macro avg       0.77      0.73      0.74   1272524\n",
            "weighted avg       1.00      1.00      1.00   1272524\n",
            "\n"
          ]
        }
      ],
      "source": [
        "import numpy as np\n",
        "from collections import Counter\n",
        "\n",
        "class DecisionTree:\n",
        "    def __init__(self, max_depth=None, min_samples_split=2):\n",
        "        self.max_depth = max_depth\n",
        "        self.min_samples_split = min_samples_split\n",
        "        self.tree = None\n",
        "\n",
        "    def fit(self, X, y, depth=0):\n",
        "        if len(set(y)) == 1 or (self.max_depth and depth >= self.max_depth) or len(y) < self.min_samples_split:\n",
        "            self.tree = Counter(y).most_common(1)[0][0]\n",
        "            return\n",
        "\n",
        "        best_feature, best_threshold = self._best_split(X, y)\n",
        "        if best_feature is None:\n",
        "            self.tree = Counter(y).most_common(1)[0][0]\n",
        "            return\n",
        "\n",
        "        left_mask = X[:, best_feature] <= best_threshold\n",
        "        right_mask = ~left_mask\n",
        "\n",
        "        self.tree = {\n",
        "            \"feature\": best_feature,\n",
        "            \"threshold\": best_threshold,\n",
        "            \"left\": DecisionTree(self.max_depth, self.min_samples_split),\n",
        "            \"right\": DecisionTree(self.max_depth, self.min_samples_split),\n",
        "        }\n",
        "\n",
        "        self.tree[\"left\"].fit(X[left_mask], y[left_mask], depth + 1)\n",
        "        self.tree[\"right\"].fit(X[right_mask], y[right_mask], depth + 1)\n",
        "\n",
        "    def predict(self, X):\n",
        "        return np.array([self._predict_single(sample) for sample in X])\n",
        "\n",
        "    def _predict_single(self, sample):\n",
        "        node = self.tree\n",
        "        while isinstance(node, dict):\n",
        "            node = node[\"left\"].tree if sample[node[\"feature\"]] <= node[\"threshold\"] else node[\"right\"].tree\n",
        "        return node\n",
        "\n",
        "    def _best_split(self, X, y):\n",
        "        best_gain, best_feature, best_threshold = -1, None, None\n",
        "\n",
        "        for feature in range(X.shape[1]):\n",
        "            thresholds = np.percentile(X[:, feature], [25, 50, 75])  # Reduced threshold candidates\n",
        "\n",
        "            for threshold in thresholds:\n",
        "                left_mask = X[:, feature] <= threshold\n",
        "                right_mask = ~left_mask\n",
        "\n",
        "                if left_mask.sum() == 0 or right_mask.sum() == 0:\n",
        "                    continue\n",
        "\n",
        "                gain = self._information_gain(y, y[left_mask], y[right_mask])\n",
        "                if gain > best_gain:\n",
        "                    best_gain, best_feature, best_threshold = gain, feature, threshold\n",
        "\n",
        "        return best_feature, best_threshold\n",
        "\n",
        "    def _information_gain(self, parent, left_child, right_child):\n",
        "        def entropy(y):\n",
        "            counts = np.bincount(y)\n",
        "            probs = counts / counts.sum()\n",
        "            return -np.sum(probs * np.log2(probs + 1e-9))  # Added small epsilon to avoid log(0)\n",
        "\n",
        "        parent_entropy = entropy(parent)\n",
        "        left_entropy = entropy(left_child)\n",
        "        right_entropy = entropy(right_child)\n",
        "        weight_l, weight_r = len(left_child) / len(parent), len(right_child) / len(parent)\n",
        "        return parent_entropy - (weight_l * left_entropy + weight_r * right_entropy)\n",
        "\n",
        "\n",
        "class RandomForest:\n",
        "    def __init__(self, num_trees=10, max_depth=None, min_samples_split=2):\n",
        "        self.num_trees = num_trees\n",
        "        self.max_depth = max_depth\n",
        "        self.min_samples_split = min_samples_split\n",
        "        self.trees = []\n",
        "\n",
        "    def fit(self, X, y):\n",
        "        X = np.array(X)  # Ensure X is a NumPy array\n",
        "        y = np.array(y)  # Ensure y is a NumPy array\n",
        "\n",
        "        for _ in range(self.num_trees):\n",
        "            bootstrap_indices = np.random.choice(len(X), len(X), replace=True)\n",
        "            X_bootstrap, y_bootstrap = X[bootstrap_indices], y[bootstrap_indices]\n",
        "\n",
        "            tree = DecisionTree(self.max_depth, self.min_samples_split)\n",
        "            tree.fit(X_bootstrap, y_bootstrap)\n",
        "            self.trees.append(tree)\n",
        "\n",
        "    def predict(self, X):\n",
        "        X = np.array(X)  # Ensure X is a NumPy array\n",
        "        predictions = np.array([tree.predict(X) for tree in self.trees])\n",
        "        return np.apply_along_axis(lambda x: np.bincount(x).argmax(), axis=0, arr=predictions)\n",
        "\n",
        "\n",
        "# Example Usage:\n",
        "\n",
        "# Assuming X_train, X_test, y_train, y_test are properly defined NumPy arrays\n",
        "rf = RandomForest(num_trees=10, max_depth=5)\n",
        "rf.fit(X_train, y_train)\n",
        "\n",
        "y_pred_rf = rf.predict(X_test)\n",
        "\n",
        "# Evaluate the model\n",
        "from sklearn.metrics import accuracy_score, classification_report\n",
        "accuracy = accuracy_score(y_test, y_pred_rf)\n",
        "print(f\"Random Forest Accuracy: {accuracy:.4f}\")\n",
        "\n",
        "print(\"Classification Report:\")\n",
        "print(classification_report(y_test, y_pred_rf))\n"
      ]
    },
    {
      "cell_type": "code",
      "execution_count": null,
      "metadata": {
        "id": "sg_KzMMVZWie"
      },
      "outputs": [],
      "source": [
        "import pandas as pd\n",
        "import kagglehub\n",
        "from sklearn.preprocessing import LabelEncoder, StandardScaler\n",
        "import os\n",
        "\n",
        "path = kagglehub.dataset_download(\"chitwanmanchanda/fraudulent-transactions-data\")\n",
        "\n",
        "\n",
        "csv_file = [file for file in os.listdir(path) if file.endswith(\".csv\")][0]\n",
        "df = pd.read_csv(os.path.join(path, csv_file))\n",
        "target_column = \"isFlaggedFraud\"  # Replace with actual target column\n",
        "X = df.drop(columns=[target_column])\n",
        "y = df[target_column]\n",
        "\n",
        "# Identify categorical columns\n",
        "categorical_cols = X.select_dtypes(include=['object']).columns\n",
        "\n",
        "# Apply Label Encoding to categorical features\n",
        "label_encoders = {}\n",
        "for col in categorical_cols:\n",
        "    label_encoders[col] = LabelEncoder()\n",
        "    X[col] = label_encoders[col].fit_transform(X[col])\n",
        "\n",
        "# Standardize the features\n",
        "scaler = StandardScaler()\n",
        "X_scaled = scaler.fit_transform(X)  # This ensures X_scaled is properly defined\n"
      ]
    },
    {
      "cell_type": "markdown",
      "metadata": {
        "id": "SzO9R6KCPdQj"
      },
      "source": [
        "---\n",
        "\n",
        "\n",
        "**Assignment 2**\n",
        "\n",
        "---\n",
        "\n"
      ]
    },
    {
      "cell_type": "markdown",
      "metadata": {
        "id": "3705l6rLP9iU"
      },
      "source": [
        "**PROBLEM STATEMENT:** To Develop an ML-based fraud detection system for financial transactions that can identify fraudulent activities and adapt to changing fraud patterns, and provide interpretable insights."
      ]
    },
    {
      "cell_type": "markdown",
      "metadata": {
        "id": "D57jXXoZSfNT"
      },
      "source": [
        "\n",
        "\n",
        "---\n",
        "\n"
      ]
    },
    {
      "cell_type": "markdown",
      "metadata": {
        "id": "8DNCStj5ShHi"
      },
      "source": [
        "Implementing Dimensionality Reduction Techniques"
      ]
    },
    {
      "cell_type": "code",
      "execution_count": null,
      "metadata": {
        "colab": {
          "base_uri": "https://localhost:8080/"
        },
        "id": "Qw2ofS-zYYa6",
        "outputId": "3e340202-72b0-4f9f-b9ee-8cdc0e86c438"
      },
      "outputs": [
        {
          "output_type": "stream",
          "name": "stderr",
          "text": [
            "/usr/local/lib/python3.11/dist-packages/sklearn/manifold/_t_sne.py:1164: FutureWarning: 'n_iter' was renamed to 'max_iter' in version 1.5 and will be removed in 1.7.\n",
            "  warnings.warn(\n"
          ]
        },
        {
          "output_type": "stream",
          "name": "stdout",
          "text": [
            "Epoch 1/5\n",
            "\u001b[1m49708/49708\u001b[0m \u001b[32m━━━━━━━━━━━━━━━━━━━━\u001b[0m\u001b[37m\u001b[0m \u001b[1m94s\u001b[0m 2ms/step - loss: 0.2773\n",
            "Epoch 2/5\n",
            "\u001b[1m49708/49708\u001b[0m \u001b[32m━━━━━━━━━━━━━━━━━━━━\u001b[0m\u001b[37m\u001b[0m \u001b[1m93s\u001b[0m 2ms/step - loss: 0.2154\n",
            "Epoch 3/5\n",
            "\u001b[1m49708/49708\u001b[0m \u001b[32m━━━━━━━━━━━━━━━━━━━━\u001b[0m\u001b[37m\u001b[0m \u001b[1m97s\u001b[0m 2ms/step - loss: 0.2122\n",
            "Epoch 4/5\n",
            "\u001b[1m49708/49708\u001b[0m \u001b[32m━━━━━━━━━━━━━━━━━━━━\u001b[0m\u001b[37m\u001b[0m \u001b[1m138s\u001b[0m 2ms/step - loss: 0.2125\n",
            "Epoch 5/5\n",
            "\u001b[1m49708/49708\u001b[0m \u001b[32m━━━━━━━━━━━━━━━━━━━━\u001b[0m\u001b[37m\u001b[0m \u001b[1m144s\u001b[0m 2ms/step - loss: 0.2120\n",
            "\u001b[1m198832/198832\u001b[0m \u001b[32m━━━━━━━━━━━━━━━━━━━━\u001b[0m\u001b[37m\u001b[0m \u001b[1m220s\u001b[0m 1ms/step\n"
          ]
        }
      ],
      "source": [
        "from sklearn.manifold import TSNE\n",
        "from sklearn.discriminant_analysis import LinearDiscriminantAnalysis as LDA\n",
        "from tensorflow.keras.models import Model\n",
        "from tensorflow.keras.layers import Input, Dense\n",
        "import numpy as np\n",
        "\n",
        "# ✅ Reduce data for t-SNE (random sampling for faster computation)\n",
        "sample_size = min(5000, X_scaled.shape[0])  # Use at most 5000 samples\n",
        "indices = np.random.choice(X_scaled.shape[0], sample_size, replace=False)\n",
        "X_sampled = X_scaled[indices]\n",
        "\n",
        "# ✅ Faster t-SNE with reduced perplexity and iterations\n",
        "tsne = TSNE(n_components=2, perplexity=30, n_iter=500, random_state=42)\n",
        "X_tsne = tsne.fit_transform(X_sampled)\n",
        "\n",
        "# ✅ Faster LDA (Only works if target `y` has >1 class)\n",
        "lda = LDA(n_components=1)\n",
        "X_lda = lda.fit_transform(X_scaled, y)\n",
        "\n",
        "# ✅ Faster Autoencoder (Fewer neurons & epochs, larger batch size)\n",
        "input_dim = X.shape[1]\n",
        "input_layer = Input(shape=(input_dim,))\n",
        "encoded = Dense(5, activation='relu')(input_layer)  # Reduce neurons\n",
        "decoded = Dense(input_dim, activation='linear')(encoded)\n",
        "\n",
        "autoencoder = Model(input_layer, decoded)\n",
        "autoencoder.compile(optimizer='adam', loss='mse')\n",
        "\n",
        "# ✅ Reduce epochs, increase batch size for faster training\n",
        "autoencoder.fit(X_scaled, X_scaled, epochs=5, batch_size=128, verbose=1)\n",
        "\n",
        "# Extract compressed features\n",
        "encoder = Model(input_layer, encoded)\n",
        "X_autoencoded = encoder.predict(X_scaled)\n"
      ]
    },
    {
      "cell_type": "markdown",
      "metadata": {
        "id": "zD6emfqulYm-"
      },
      "source": [
        "Identifying Hyperparameters and Model Parameters"
      ]
    },
    {
      "cell_type": "code",
      "execution_count": null,
      "metadata": {
        "colab": {
          "base_uri": "https://localhost:8080/"
        },
        "id": "7JobjuwlylJ9",
        "outputId": "b1b79334-d580-4b88-944a-705d034a2561"
      },
      "outputs": [
        {
          "output_type": "stream",
          "name": "stdout",
          "text": [
            "{'bootstrap': True, 'ccp_alpha': 0.0, 'class_weight': None, 'criterion': 'gini', 'max_depth': None, 'max_features': 'sqrt', 'max_leaf_nodes': None, 'max_samples': None, 'min_impurity_decrease': 0.0, 'min_samples_leaf': 1, 'min_samples_split': 2, 'min_weight_fraction_leaf': 0.0, 'monotonic_cst': None, 'n_estimators': 100, 'n_jobs': None, 'oob_score': False, 'random_state': None, 'verbose': 0, 'warm_start': False}\n"
          ]
        }
      ],
      "source": [
        "from sklearn.ensemble import RandomForestClassifier\n",
        "\n",
        "# Hyperparameters (Set before training)\n",
        "hyperparameters = {\n",
        "    \"n_estimators\": 100,\n",
        "    \"max_depth\": None,\n",
        "    \"min_samples_split\": 2,\n",
        "    \"min_samples_leaf\": 1\n",
        "}\n",
        "\n",
        "# Model Parameters (Learned during training)\n",
        "model = RandomForestClassifier(**hyperparameters)\n",
        "model.fit(X_scaled, y)\n",
        "model_params = model.get_params()\n",
        "print(model_params)"
      ]
    },
    {
      "cell_type": "markdown",
      "metadata": {
        "id": "cpfEIA7Ys4y6"
      },
      "source": [
        "Implementing Random Search and Grid Search for Hyperparameter Tuning"
      ]
    },
    {
      "cell_type": "code",
      "execution_count": null,
      "metadata": {
        "colab": {
          "base_uri": "https://localhost:8080/"
        },
        "id": "lcRXlVwRs505",
        "outputId": "2a7eb849-9178-4147-f541-7f24fc6f0547"
      },
      "outputs": [
        {
          "output_type": "stream",
          "name": "stdout",
          "text": [
            "Fitting 2 folds for each of 10 candidates, totalling 20 fits\n",
            "Best Parameters from Random Search: {'n_estimators': 200, 'min_samples_split': 10, 'min_samples_leaf': 2, 'max_depth': 20}\n",
            "Fitting 2 folds for each of 16 candidates, totalling 32 fits\n",
            "Best Parameters from Grid Search: {'max_depth': 10, 'min_samples_leaf': 1, 'min_samples_split': 2, 'n_estimators': 100}\n"
          ]
        }
      ],
      "source": [
        "import pandas as pd\n",
        "import kagglehub\n",
        "import numpy as np\n",
        "from sklearn.preprocessing import LabelEncoder, StandardScaler\n",
        "from sklearn.ensemble import RandomForestClassifier\n",
        "from sklearn.model_selection import RandomizedSearchCV, GridSearchCV\n",
        "import os\n",
        "\n",
        "# ✅ Load dataset\n",
        "path = kagglehub.dataset_download(\"chitwanmanchanda/fraudulent-transactions-data\")\n",
        "csv_file = next(file for file in os.listdir(path) if file.endswith(\".csv\"))\n",
        "df = pd.read_csv(os.path.join(path, csv_file), low_memory=False)\n",
        "\n",
        "# ✅ Preprocess dataset\n",
        "target_column = \"isFlaggedFraud\"\n",
        "X = df.drop(columns=[target_column])\n",
        "y = df[target_column]\n",
        "\n",
        "# ✅ Convert categorical features using label encoding\n",
        "categorical_cols = X.select_dtypes(include=['object']).columns\n",
        "for col in categorical_cols:\n",
        "    X[col] = X[col].astype('category').cat.codes  # Faster than LabelEncoder\n",
        "\n",
        "# ✅ Standardize features\n",
        "scaler = StandardScaler()\n",
        "X_scaled = scaler.fit_transform(X)  # X_scaled is now properly defined\n",
        "\n",
        "# ✅ Reduce dataset size for faster hyperparameter tuning (~10,000 rows)\n",
        "sample_size = min(10000, X_scaled.shape[0])\n",
        "indices = np.random.choice(X_scaled.shape[0], sample_size, replace=False)\n",
        "X_sampled, y_sampled = X_scaled[indices], y.iloc[indices]\n",
        "\n",
        "# ✅ Define Hyperparameter Grid\n",
        "param_grid = {\n",
        "    \"n_estimators\": [50, 100, 200],\n",
        "    \"max_depth\": [10, 20, None],\n",
        "    \"min_samples_split\": [2, 5, 10],\n",
        "    \"min_samples_leaf\": [1, 2, 4]\n",
        "}\n",
        "\n",
        "# ✅ Randomized Search (Faster)\n",
        "random_search = RandomizedSearchCV(\n",
        "    RandomForestClassifier(warm_start=True, n_jobs=-1),\n",
        "    param_distributions=param_grid,\n",
        "    n_iter=10,\n",
        "    cv=2,\n",
        "    verbose=1,\n",
        "    n_jobs=-1\n",
        ")\n",
        "random_search.fit(X_sampled, y_sampled)\n",
        "print(\"Best Parameters from Random Search:\", random_search.best_params_)\n",
        "\n",
        "# ✅ Grid Search (Less exhaustive)\n",
        "reduced_param_grid = {\n",
        "    \"n_estimators\": [100, 200],\n",
        "    \"max_depth\": [10, 20],\n",
        "    \"min_samples_split\": [2, 5],\n",
        "    \"min_samples_leaf\": [1, 2]\n",
        "}\n",
        "\n",
        "grid_search = GridSearchCV(\n",
        "    RandomForestClassifier(warm_start=True, n_jobs=-1),\n",
        "    param_grid=reduced_param_grid,\n",
        "    cv=2,\n",
        "    verbose=1,\n",
        "    n_jobs=-1\n",
        ")\n",
        "grid_search.fit(X_sampled, y_sampled)\n",
        "print(\"Best Parameters from Grid Search:\", grid_search.best_params_)\n"
      ]
    },
    {
      "cell_type": "markdown",
      "metadata": {
        "id": "cmJmfTY0WaVj"
      },
      "source": [
        "Developing the Model with Optimized Parameters"
      ]
    },
    {
      "cell_type": "code",
      "execution_count": null,
      "metadata": {
        "id": "MvvqYE5PWcdY",
        "colab": {
          "base_uri": "https://localhost:8080/",
          "height": 80
        },
        "outputId": "c9442d81-17be-4a66-8732-c985f4010b11"
      },
      "outputs": [
        {
          "output_type": "execute_result",
          "data": {
            "text/plain": [
              "RandomForestClassifier(max_depth=10, n_jobs=-1, warm_start=True)"
            ],
            "text/html": [
              "<style>#sk-container-id-1 {\n",
              "  /* Definition of color scheme common for light and dark mode */\n",
              "  --sklearn-color-text: #000;\n",
              "  --sklearn-color-text-muted: #666;\n",
              "  --sklearn-color-line: gray;\n",
              "  /* Definition of color scheme for unfitted estimators */\n",
              "  --sklearn-color-unfitted-level-0: #fff5e6;\n",
              "  --sklearn-color-unfitted-level-1: #f6e4d2;\n",
              "  --sklearn-color-unfitted-level-2: #ffe0b3;\n",
              "  --sklearn-color-unfitted-level-3: chocolate;\n",
              "  /* Definition of color scheme for fitted estimators */\n",
              "  --sklearn-color-fitted-level-0: #f0f8ff;\n",
              "  --sklearn-color-fitted-level-1: #d4ebff;\n",
              "  --sklearn-color-fitted-level-2: #b3dbfd;\n",
              "  --sklearn-color-fitted-level-3: cornflowerblue;\n",
              "\n",
              "  /* Specific color for light theme */\n",
              "  --sklearn-color-text-on-default-background: var(--sg-text-color, var(--theme-code-foreground, var(--jp-content-font-color1, black)));\n",
              "  --sklearn-color-background: var(--sg-background-color, var(--theme-background, var(--jp-layout-color0, white)));\n",
              "  --sklearn-color-border-box: var(--sg-text-color, var(--theme-code-foreground, var(--jp-content-font-color1, black)));\n",
              "  --sklearn-color-icon: #696969;\n",
              "\n",
              "  @media (prefers-color-scheme: dark) {\n",
              "    /* Redefinition of color scheme for dark theme */\n",
              "    --sklearn-color-text-on-default-background: var(--sg-text-color, var(--theme-code-foreground, var(--jp-content-font-color1, white)));\n",
              "    --sklearn-color-background: var(--sg-background-color, var(--theme-background, var(--jp-layout-color0, #111)));\n",
              "    --sklearn-color-border-box: var(--sg-text-color, var(--theme-code-foreground, var(--jp-content-font-color1, white)));\n",
              "    --sklearn-color-icon: #878787;\n",
              "  }\n",
              "}\n",
              "\n",
              "#sk-container-id-1 {\n",
              "  color: var(--sklearn-color-text);\n",
              "}\n",
              "\n",
              "#sk-container-id-1 pre {\n",
              "  padding: 0;\n",
              "}\n",
              "\n",
              "#sk-container-id-1 input.sk-hidden--visually {\n",
              "  border: 0;\n",
              "  clip: rect(1px 1px 1px 1px);\n",
              "  clip: rect(1px, 1px, 1px, 1px);\n",
              "  height: 1px;\n",
              "  margin: -1px;\n",
              "  overflow: hidden;\n",
              "  padding: 0;\n",
              "  position: absolute;\n",
              "  width: 1px;\n",
              "}\n",
              "\n",
              "#sk-container-id-1 div.sk-dashed-wrapped {\n",
              "  border: 1px dashed var(--sklearn-color-line);\n",
              "  margin: 0 0.4em 0.5em 0.4em;\n",
              "  box-sizing: border-box;\n",
              "  padding-bottom: 0.4em;\n",
              "  background-color: var(--sklearn-color-background);\n",
              "}\n",
              "\n",
              "#sk-container-id-1 div.sk-container {\n",
              "  /* jupyter's `normalize.less` sets `[hidden] { display: none; }`\n",
              "     but bootstrap.min.css set `[hidden] { display: none !important; }`\n",
              "     so we also need the `!important` here to be able to override the\n",
              "     default hidden behavior on the sphinx rendered scikit-learn.org.\n",
              "     See: https://github.com/scikit-learn/scikit-learn/issues/21755 */\n",
              "  display: inline-block !important;\n",
              "  position: relative;\n",
              "}\n",
              "\n",
              "#sk-container-id-1 div.sk-text-repr-fallback {\n",
              "  display: none;\n",
              "}\n",
              "\n",
              "div.sk-parallel-item,\n",
              "div.sk-serial,\n",
              "div.sk-item {\n",
              "  /* draw centered vertical line to link estimators */\n",
              "  background-image: linear-gradient(var(--sklearn-color-text-on-default-background), var(--sklearn-color-text-on-default-background));\n",
              "  background-size: 2px 100%;\n",
              "  background-repeat: no-repeat;\n",
              "  background-position: center center;\n",
              "}\n",
              "\n",
              "/* Parallel-specific style estimator block */\n",
              "\n",
              "#sk-container-id-1 div.sk-parallel-item::after {\n",
              "  content: \"\";\n",
              "  width: 100%;\n",
              "  border-bottom: 2px solid var(--sklearn-color-text-on-default-background);\n",
              "  flex-grow: 1;\n",
              "}\n",
              "\n",
              "#sk-container-id-1 div.sk-parallel {\n",
              "  display: flex;\n",
              "  align-items: stretch;\n",
              "  justify-content: center;\n",
              "  background-color: var(--sklearn-color-background);\n",
              "  position: relative;\n",
              "}\n",
              "\n",
              "#sk-container-id-1 div.sk-parallel-item {\n",
              "  display: flex;\n",
              "  flex-direction: column;\n",
              "}\n",
              "\n",
              "#sk-container-id-1 div.sk-parallel-item:first-child::after {\n",
              "  align-self: flex-end;\n",
              "  width: 50%;\n",
              "}\n",
              "\n",
              "#sk-container-id-1 div.sk-parallel-item:last-child::after {\n",
              "  align-self: flex-start;\n",
              "  width: 50%;\n",
              "}\n",
              "\n",
              "#sk-container-id-1 div.sk-parallel-item:only-child::after {\n",
              "  width: 0;\n",
              "}\n",
              "\n",
              "/* Serial-specific style estimator block */\n",
              "\n",
              "#sk-container-id-1 div.sk-serial {\n",
              "  display: flex;\n",
              "  flex-direction: column;\n",
              "  align-items: center;\n",
              "  background-color: var(--sklearn-color-background);\n",
              "  padding-right: 1em;\n",
              "  padding-left: 1em;\n",
              "}\n",
              "\n",
              "\n",
              "/* Toggleable style: style used for estimator/Pipeline/ColumnTransformer box that is\n",
              "clickable and can be expanded/collapsed.\n",
              "- Pipeline and ColumnTransformer use this feature and define the default style\n",
              "- Estimators will overwrite some part of the style using the `sk-estimator` class\n",
              "*/\n",
              "\n",
              "/* Pipeline and ColumnTransformer style (default) */\n",
              "\n",
              "#sk-container-id-1 div.sk-toggleable {\n",
              "  /* Default theme specific background. It is overwritten whether we have a\n",
              "  specific estimator or a Pipeline/ColumnTransformer */\n",
              "  background-color: var(--sklearn-color-background);\n",
              "}\n",
              "\n",
              "/* Toggleable label */\n",
              "#sk-container-id-1 label.sk-toggleable__label {\n",
              "  cursor: pointer;\n",
              "  display: flex;\n",
              "  width: 100%;\n",
              "  margin-bottom: 0;\n",
              "  padding: 0.5em;\n",
              "  box-sizing: border-box;\n",
              "  text-align: center;\n",
              "  align-items: start;\n",
              "  justify-content: space-between;\n",
              "  gap: 0.5em;\n",
              "}\n",
              "\n",
              "#sk-container-id-1 label.sk-toggleable__label .caption {\n",
              "  font-size: 0.6rem;\n",
              "  font-weight: lighter;\n",
              "  color: var(--sklearn-color-text-muted);\n",
              "}\n",
              "\n",
              "#sk-container-id-1 label.sk-toggleable__label-arrow:before {\n",
              "  /* Arrow on the left of the label */\n",
              "  content: \"▸\";\n",
              "  float: left;\n",
              "  margin-right: 0.25em;\n",
              "  color: var(--sklearn-color-icon);\n",
              "}\n",
              "\n",
              "#sk-container-id-1 label.sk-toggleable__label-arrow:hover:before {\n",
              "  color: var(--sklearn-color-text);\n",
              "}\n",
              "\n",
              "/* Toggleable content - dropdown */\n",
              "\n",
              "#sk-container-id-1 div.sk-toggleable__content {\n",
              "  max-height: 0;\n",
              "  max-width: 0;\n",
              "  overflow: hidden;\n",
              "  text-align: left;\n",
              "  /* unfitted */\n",
              "  background-color: var(--sklearn-color-unfitted-level-0);\n",
              "}\n",
              "\n",
              "#sk-container-id-1 div.sk-toggleable__content.fitted {\n",
              "  /* fitted */\n",
              "  background-color: var(--sklearn-color-fitted-level-0);\n",
              "}\n",
              "\n",
              "#sk-container-id-1 div.sk-toggleable__content pre {\n",
              "  margin: 0.2em;\n",
              "  border-radius: 0.25em;\n",
              "  color: var(--sklearn-color-text);\n",
              "  /* unfitted */\n",
              "  background-color: var(--sklearn-color-unfitted-level-0);\n",
              "}\n",
              "\n",
              "#sk-container-id-1 div.sk-toggleable__content.fitted pre {\n",
              "  /* unfitted */\n",
              "  background-color: var(--sklearn-color-fitted-level-0);\n",
              "}\n",
              "\n",
              "#sk-container-id-1 input.sk-toggleable__control:checked~div.sk-toggleable__content {\n",
              "  /* Expand drop-down */\n",
              "  max-height: 200px;\n",
              "  max-width: 100%;\n",
              "  overflow: auto;\n",
              "}\n",
              "\n",
              "#sk-container-id-1 input.sk-toggleable__control:checked~label.sk-toggleable__label-arrow:before {\n",
              "  content: \"▾\";\n",
              "}\n",
              "\n",
              "/* Pipeline/ColumnTransformer-specific style */\n",
              "\n",
              "#sk-container-id-1 div.sk-label input.sk-toggleable__control:checked~label.sk-toggleable__label {\n",
              "  color: var(--sklearn-color-text);\n",
              "  background-color: var(--sklearn-color-unfitted-level-2);\n",
              "}\n",
              "\n",
              "#sk-container-id-1 div.sk-label.fitted input.sk-toggleable__control:checked~label.sk-toggleable__label {\n",
              "  background-color: var(--sklearn-color-fitted-level-2);\n",
              "}\n",
              "\n",
              "/* Estimator-specific style */\n",
              "\n",
              "/* Colorize estimator box */\n",
              "#sk-container-id-1 div.sk-estimator input.sk-toggleable__control:checked~label.sk-toggleable__label {\n",
              "  /* unfitted */\n",
              "  background-color: var(--sklearn-color-unfitted-level-2);\n",
              "}\n",
              "\n",
              "#sk-container-id-1 div.sk-estimator.fitted input.sk-toggleable__control:checked~label.sk-toggleable__label {\n",
              "  /* fitted */\n",
              "  background-color: var(--sklearn-color-fitted-level-2);\n",
              "}\n",
              "\n",
              "#sk-container-id-1 div.sk-label label.sk-toggleable__label,\n",
              "#sk-container-id-1 div.sk-label label {\n",
              "  /* The background is the default theme color */\n",
              "  color: var(--sklearn-color-text-on-default-background);\n",
              "}\n",
              "\n",
              "/* On hover, darken the color of the background */\n",
              "#sk-container-id-1 div.sk-label:hover label.sk-toggleable__label {\n",
              "  color: var(--sklearn-color-text);\n",
              "  background-color: var(--sklearn-color-unfitted-level-2);\n",
              "}\n",
              "\n",
              "/* Label box, darken color on hover, fitted */\n",
              "#sk-container-id-1 div.sk-label.fitted:hover label.sk-toggleable__label.fitted {\n",
              "  color: var(--sklearn-color-text);\n",
              "  background-color: var(--sklearn-color-fitted-level-2);\n",
              "}\n",
              "\n",
              "/* Estimator label */\n",
              "\n",
              "#sk-container-id-1 div.sk-label label {\n",
              "  font-family: monospace;\n",
              "  font-weight: bold;\n",
              "  display: inline-block;\n",
              "  line-height: 1.2em;\n",
              "}\n",
              "\n",
              "#sk-container-id-1 div.sk-label-container {\n",
              "  text-align: center;\n",
              "}\n",
              "\n",
              "/* Estimator-specific */\n",
              "#sk-container-id-1 div.sk-estimator {\n",
              "  font-family: monospace;\n",
              "  border: 1px dotted var(--sklearn-color-border-box);\n",
              "  border-radius: 0.25em;\n",
              "  box-sizing: border-box;\n",
              "  margin-bottom: 0.5em;\n",
              "  /* unfitted */\n",
              "  background-color: var(--sklearn-color-unfitted-level-0);\n",
              "}\n",
              "\n",
              "#sk-container-id-1 div.sk-estimator.fitted {\n",
              "  /* fitted */\n",
              "  background-color: var(--sklearn-color-fitted-level-0);\n",
              "}\n",
              "\n",
              "/* on hover */\n",
              "#sk-container-id-1 div.sk-estimator:hover {\n",
              "  /* unfitted */\n",
              "  background-color: var(--sklearn-color-unfitted-level-2);\n",
              "}\n",
              "\n",
              "#sk-container-id-1 div.sk-estimator.fitted:hover {\n",
              "  /* fitted */\n",
              "  background-color: var(--sklearn-color-fitted-level-2);\n",
              "}\n",
              "\n",
              "/* Specification for estimator info (e.g. \"i\" and \"?\") */\n",
              "\n",
              "/* Common style for \"i\" and \"?\" */\n",
              "\n",
              ".sk-estimator-doc-link,\n",
              "a:link.sk-estimator-doc-link,\n",
              "a:visited.sk-estimator-doc-link {\n",
              "  float: right;\n",
              "  font-size: smaller;\n",
              "  line-height: 1em;\n",
              "  font-family: monospace;\n",
              "  background-color: var(--sklearn-color-background);\n",
              "  border-radius: 1em;\n",
              "  height: 1em;\n",
              "  width: 1em;\n",
              "  text-decoration: none !important;\n",
              "  margin-left: 0.5em;\n",
              "  text-align: center;\n",
              "  /* unfitted */\n",
              "  border: var(--sklearn-color-unfitted-level-1) 1pt solid;\n",
              "  color: var(--sklearn-color-unfitted-level-1);\n",
              "}\n",
              "\n",
              ".sk-estimator-doc-link.fitted,\n",
              "a:link.sk-estimator-doc-link.fitted,\n",
              "a:visited.sk-estimator-doc-link.fitted {\n",
              "  /* fitted */\n",
              "  border: var(--sklearn-color-fitted-level-1) 1pt solid;\n",
              "  color: var(--sklearn-color-fitted-level-1);\n",
              "}\n",
              "\n",
              "/* On hover */\n",
              "div.sk-estimator:hover .sk-estimator-doc-link:hover,\n",
              ".sk-estimator-doc-link:hover,\n",
              "div.sk-label-container:hover .sk-estimator-doc-link:hover,\n",
              ".sk-estimator-doc-link:hover {\n",
              "  /* unfitted */\n",
              "  background-color: var(--sklearn-color-unfitted-level-3);\n",
              "  color: var(--sklearn-color-background);\n",
              "  text-decoration: none;\n",
              "}\n",
              "\n",
              "div.sk-estimator.fitted:hover .sk-estimator-doc-link.fitted:hover,\n",
              ".sk-estimator-doc-link.fitted:hover,\n",
              "div.sk-label-container:hover .sk-estimator-doc-link.fitted:hover,\n",
              ".sk-estimator-doc-link.fitted:hover {\n",
              "  /* fitted */\n",
              "  background-color: var(--sklearn-color-fitted-level-3);\n",
              "  color: var(--sklearn-color-background);\n",
              "  text-decoration: none;\n",
              "}\n",
              "\n",
              "/* Span, style for the box shown on hovering the info icon */\n",
              ".sk-estimator-doc-link span {\n",
              "  display: none;\n",
              "  z-index: 9999;\n",
              "  position: relative;\n",
              "  font-weight: normal;\n",
              "  right: .2ex;\n",
              "  padding: .5ex;\n",
              "  margin: .5ex;\n",
              "  width: min-content;\n",
              "  min-width: 20ex;\n",
              "  max-width: 50ex;\n",
              "  color: var(--sklearn-color-text);\n",
              "  box-shadow: 2pt 2pt 4pt #999;\n",
              "  /* unfitted */\n",
              "  background: var(--sklearn-color-unfitted-level-0);\n",
              "  border: .5pt solid var(--sklearn-color-unfitted-level-3);\n",
              "}\n",
              "\n",
              ".sk-estimator-doc-link.fitted span {\n",
              "  /* fitted */\n",
              "  background: var(--sklearn-color-fitted-level-0);\n",
              "  border: var(--sklearn-color-fitted-level-3);\n",
              "}\n",
              "\n",
              ".sk-estimator-doc-link:hover span {\n",
              "  display: block;\n",
              "}\n",
              "\n",
              "/* \"?\"-specific style due to the `<a>` HTML tag */\n",
              "\n",
              "#sk-container-id-1 a.estimator_doc_link {\n",
              "  float: right;\n",
              "  font-size: 1rem;\n",
              "  line-height: 1em;\n",
              "  font-family: monospace;\n",
              "  background-color: var(--sklearn-color-background);\n",
              "  border-radius: 1rem;\n",
              "  height: 1rem;\n",
              "  width: 1rem;\n",
              "  text-decoration: none;\n",
              "  /* unfitted */\n",
              "  color: var(--sklearn-color-unfitted-level-1);\n",
              "  border: var(--sklearn-color-unfitted-level-1) 1pt solid;\n",
              "}\n",
              "\n",
              "#sk-container-id-1 a.estimator_doc_link.fitted {\n",
              "  /* fitted */\n",
              "  border: var(--sklearn-color-fitted-level-1) 1pt solid;\n",
              "  color: var(--sklearn-color-fitted-level-1);\n",
              "}\n",
              "\n",
              "/* On hover */\n",
              "#sk-container-id-1 a.estimator_doc_link:hover {\n",
              "  /* unfitted */\n",
              "  background-color: var(--sklearn-color-unfitted-level-3);\n",
              "  color: var(--sklearn-color-background);\n",
              "  text-decoration: none;\n",
              "}\n",
              "\n",
              "#sk-container-id-1 a.estimator_doc_link.fitted:hover {\n",
              "  /* fitted */\n",
              "  background-color: var(--sklearn-color-fitted-level-3);\n",
              "}\n",
              "</style><div id=\"sk-container-id-1\" class=\"sk-top-container\"><div class=\"sk-text-repr-fallback\"><pre>RandomForestClassifier(max_depth=10, n_jobs=-1, warm_start=True)</pre><b>In a Jupyter environment, please rerun this cell to show the HTML representation or trust the notebook. <br />On GitHub, the HTML representation is unable to render, please try loading this page with nbviewer.org.</b></div><div class=\"sk-container\" hidden><div class=\"sk-item\"><div class=\"sk-estimator fitted sk-toggleable\"><input class=\"sk-toggleable__control sk-hidden--visually\" id=\"sk-estimator-id-1\" type=\"checkbox\" checked><label for=\"sk-estimator-id-1\" class=\"sk-toggleable__label fitted sk-toggleable__label-arrow\"><div><div>RandomForestClassifier</div></div><div><a class=\"sk-estimator-doc-link fitted\" rel=\"noreferrer\" target=\"_blank\" href=\"https://scikit-learn.org/1.6/modules/generated/sklearn.ensemble.RandomForestClassifier.html\">?<span>Documentation for RandomForestClassifier</span></a><span class=\"sk-estimator-doc-link fitted\">i<span>Fitted</span></span></div></label><div class=\"sk-toggleable__content fitted\"><pre>RandomForestClassifier(max_depth=10, n_jobs=-1, warm_start=True)</pre></div> </div></div></div></div>"
            ]
          },
          "metadata": {},
          "execution_count": 5
        }
      ],
      "source": [
        "best_params[\"n_estimators\"] = min(best_params[\"n_estimators\"], 100)  # Reduce trees\n",
        "optimized_model = RandomForestClassifier(**best_params, warm_start=True, n_jobs=-1)\n",
        "optimized_model.fit(X_scaled, y)"
      ]
    },
    {
      "cell_type": "markdown",
      "source": [
        "Tabulate the analyze the results of the model prior to and\n",
        "post hyper parameter tuning and optimization techniques"
      ],
      "metadata": {
        "id": "Blp3Khxb-Q07"
      }
    },
    {
      "cell_type": "markdown",
      "source": [
        "---"
      ],
      "metadata": {
        "id": "Q7RxpEHZ-UpN"
      }
    },
    {
      "cell_type": "markdown",
      "source": [
        "Train & Evaluate the Baseline Model"
      ],
      "metadata": {
        "id": "fnGQwY2I-bFx"
      }
    },
    {
      "cell_type": "code",
      "source": [
        "print(y.value_counts())\n"
      ],
      "metadata": {
        "colab": {
          "base_uri": "https://localhost:8080/"
        },
        "id": "yQIYPf9l-dl2",
        "outputId": "9623a7d0-fac1-4a79-e4c4-23dc59d1ad05"
      },
      "execution_count": null,
      "outputs": [
        {
          "output_type": "stream",
          "name": "stdout",
          "text": [
            "isFlaggedFraud\n",
            "0    6362604\n",
            "1         16\n",
            "Name: count, dtype: int64\n"
          ]
        }
      ]
    },
    {
      "cell_type": "markdown",
      "source": [
        "Train & Evaluate the Optimized Model"
      ],
      "metadata": {
        "id": "IVSj9khK-iON"
      }
    },
    {
      "cell_type": "code",
      "source": [
        "# Predictions\n",
        "y_pred_optimized = optimized_model.predict(X_scaled)\n",
        "\n",
        "# Optimized Metrics\n",
        "optimized_metrics = {\n",
        "    \"Accuracy\": accuracy_score(y, y_pred_optimized),\n",
        "    \"Precision\": precision_score(y, y_pred_optimized),\n",
        "    \"Recall\": recall_score(y, y_pred_optimized),\n",
        "    \"F1-score\": f1_score(y, y_pred_optimized),\n",
        "}\n"
      ],
      "metadata": {
        "id": "gMlm5KjI-kQS"
      },
      "execution_count": null,
      "outputs": []
    },
    {
      "cell_type": "markdown",
      "source": [
        "Tabulate the Results"
      ],
      "metadata": {
        "id": "RjhscJlZ-oyf"
      }
    },
    {
      "cell_type": "code",
      "source": [
        "# Convert to DataFrame for easy comparison\n",
        "results_df = pd.DataFrame([baseline_metrics, optimized_metrics], index=[\"Baseline Model\", \"Optimized Model\"])\n",
        "print(results_df)\n"
      ],
      "metadata": {
        "colab": {
          "base_uri": "https://localhost:8080/"
        },
        "id": "Pgz4kihv-t_u",
        "outputId": "7aa1cb17-64e2-4ed3-dd15-e2a04a2c3cdb"
      },
      "execution_count": null,
      "outputs": [
        {
          "output_type": "stream",
          "name": "stdout",
          "text": [
            "                 Accuracy  Precision  Recall  F1-score\n",
            "Baseline Model   0.999997        0.0     0.0       0.0\n",
            "Optimized Model  1.000000        1.0     1.0       1.0\n"
          ]
        }
      ]
    },
    {
      "cell_type": "markdown",
      "source": [
        "Compare the performance of the models with and without optimizing the parameters"
      ],
      "metadata": {
        "id": "wmHXWVgx_gPG"
      }
    },
    {
      "cell_type": "markdown",
      "source": [
        "Calculate Percentage Improvement"
      ],
      "metadata": {
        "id": "OGLUsDQK_j2W"
      }
    },
    {
      "cell_type": "code",
      "source": [
        "# Compute percentage improvement\n",
        "performance_comparison = {\n",
        "    metric: round(((optimized_metrics[metric] - baseline_metrics[metric]) / baseline_metrics[metric]) * 100, 2)\n",
        "    if baseline_metrics[metric] != 0 else \"N/A\"\n",
        "    for metric in baseline_metrics\n",
        "}\n",
        "\n",
        "\n",
        "# Convert to DataFrame\n",
        "comparison_df = pd.DataFrame(\n",
        "    [baseline_metrics, optimized_metrics, performance_comparison],\n",
        "    index=[\"Baseline Model\", \"Optimized Model\", \"Improvement (%)\"]\n",
        ")\n",
        "\n",
        "print(comparison_df)\n"
      ],
      "metadata": {
        "colab": {
          "base_uri": "https://localhost:8080/"
        },
        "id": "zVjFk4ZY_ln2",
        "outputId": "3ca985ad-81f3-4541-983e-1ff45acd548f"
      },
      "execution_count": null,
      "outputs": [
        {
          "output_type": "stream",
          "name": "stdout",
          "text": [
            "                 Accuracy Precision Recall F1-score\n",
            "Baseline Model      100.0       0.0    0.0      0.0\n",
            "Optimized Model     100.0     100.0  100.0    100.0\n",
            "Improvement (%)       0.0       N/A    N/A      N/A\n"
          ]
        }
      ]
    },
    {
      "cell_type": "markdown",
      "source": [
        "Visualize the Comparison (Bar Chart)"
      ],
      "metadata": {
        "id": "yLdUv9e4_zNp"
      }
    },
    {
      "cell_type": "code",
      "source": [
        "import matplotlib.pyplot as plt\n",
        "import numpy as np\n",
        "\n",
        "# Plot performance comparison\n",
        "metrics = [\"Accuracy\", \"Precision\", \"Recall\", \"F1-score\"]\n",
        "baseline_vals = list(baseline_metrics.values())\n",
        "optimized_vals = list(optimized_metrics.values())\n",
        "\n",
        "x = np.arange(len(metrics))\n",
        "width = 0.3  # Bar width\n",
        "\n",
        "fig, ax = plt.subplots()\n",
        "ax.bar(x - width/2, baseline_vals, width, label=\"Baseline Model\", color=\"red\")\n",
        "ax.bar(x + width/2, optimized_vals, width, label=\"Optimized Model\", color=\"green\")\n",
        "\n",
        "ax.set_ylabel(\"Score\")\n",
        "ax.set_title(\"Performance Comparison: Baseline vs Optimized Model\")\n",
        "ax.set_xticks(x)\n",
        "ax.set_xticklabels(metrics)\n",
        "ax.legend()\n",
        "\n",
        "plt.show()\n"
      ],
      "metadata": {
        "colab": {
          "base_uri": "https://localhost:8080/",
          "height": 452
        },
        "id": "f9EaELOt_06m",
        "outputId": "46245620-0e2a-4ba5-a967-25783d225e39"
      },
      "execution_count": null,
      "outputs": [
        {
          "output_type": "display_data",
          "data": {
            "text/plain": [
              "<Figure size 640x480 with 1 Axes>"
            ],
            "image/png": "[encoded data removed]"
          },
          "metadata": {}
        }
      ]
    }
  ],
  "metadata": {
    "colab": {
      "provenance": []
    },
    "kernelspec": {
      "display_name": "Python 3",
      "name": "python3"
    },
    "language_info": {
      "name": "python"
    }
  },
  "nbformat": 4,
  "nbformat_minor": 0
}